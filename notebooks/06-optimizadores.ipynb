{
 "cells": [
  {
   "cell_type": "code",
   "execution_count": 1,
   "metadata": {},
   "outputs": [],
   "source": [
    "import torch\n",
    "import torch.nn as nn\n",
    "import torch.nn.functional as F\n",
    "\n",
    "import torch.optim as optim"
   ]
  },
  {
   "cell_type": "code",
   "execution_count": 2,
   "metadata": {},
   "outputs": [
    {
     "name": "stdout",
     "output_type": "stream",
     "text": [
      "tensor([-1.6047e-01,  4.5818e-41], requires_grad=True)\n",
      "tensor([13.,  7.])\n"
     ]
    }
   ],
   "source": [
    "x = torch.Tensor(2)\n",
    "x.requires_grad = True\n",
    "loss = 13 * x[0] + 7 * x[1] + 1\n",
    "loss.backward()\n",
    "print(x)\n",
    "print(x.grad)"
   ]
  },
  {
   "cell_type": "code",
   "execution_count": 3,
   "metadata": {},
   "outputs": [
    {
     "name": "stdout",
     "output_type": "stream",
     "text": [
      "tensor([[4., 4., 4.],\n",
      "        [6., 6., 6.]])\n"
     ]
    }
   ],
   "source": [
    "x = torch.randn((2,3), requires_grad=True)\n",
    "y = torch.Tensor([[1,2],[3,4]])\n",
    "loss = y.mm(x)\n",
    "loss = loss.sum()\n",
    "loss.backward()\n",
    "print(x.grad)"
   ]
  },
  {
   "cell_type": "code",
   "execution_count": 113,
   "metadata": {},
   "outputs": [
    {
     "name": "stdout",
     "output_type": "stream",
     "text": [
      "tensor([[27., 17.],\n",
      "        [27., 17.],\n",
      "        [27., 17.]])\n"
     ]
    }
   ],
   "source": [
    "x = torch.Tensor([\n",
    "    [7,6,5, 9],\n",
    "    [4,3,2, 8]\n",
    "])\n",
    "x.requires_grad = True\n",
    "y = torch.Tensor([[1,2],[3,4], [5,6]])\n",
    "y.requires_grad = True\n",
    "loss = y.mm(x)\n",
    "loss = loss.sum()\n",
    "loss.backward()\n",
    "print(y.grad)"
   ]
  },
  {
   "cell_type": "code",
   "execution_count": 109,
   "metadata": {},
   "outputs": [
    {
     "data": {
      "text/plain": [
       "True"
      ]
     },
     "execution_count": 109,
     "metadata": {},
     "output_type": "execute_result"
    }
   ],
   "source": [
    "x = torch.Tensor([\n",
    "    [7,6,5, 9],\n",
    "    [4,3,2, 8]\n",
    "])\n",
    "x.requires_grad = True\n",
    "y = torch.Tensor([[1,2],[3,4], [5,6]])\n",
    "y.requires_grad = True\n",
    "loss = y.mm(x)\n",
    "loss = loss.sum()\n",
    "loss.backward()\n",
    "True if (y @ x).sum() == (x.grad * x).sum() else False"
   ]
  },
  {
   "cell_type": "code",
   "execution_count": 123,
   "metadata": {},
   "outputs": [
    {
     "data": {
      "text/plain": [
       "tensor([[ 9.,  9.,  9.,  9.],\n",
       "        [12., 12., 12., 12.]], grad_fn=<PermuteBackward0>)"
      ]
     },
     "execution_count": 123,
     "metadata": {},
     "output_type": "execute_result"
    }
   ],
   "source": [
    "x_grad = (torch.ones([x.shape[1], 1]) @ y.sum(dim=0, keepdim=True)).T\n",
    "x_grad"
   ]
  },
  {
   "cell_type": "code",
   "execution_count": 124,
   "metadata": {},
   "outputs": [
    {
     "data": {
      "text/plain": [
       "tensor([[27., 17.],\n",
       "        [27., 17.],\n",
       "        [27., 17.]], grad_fn=<PermuteBackward0>)"
      ]
     },
     "execution_count": 124,
     "metadata": {},
     "output_type": "execute_result"
    }
   ],
   "source": [
    "y_grad = (x.sum(dim=1, keepdim=True) @ torch.ones([1, y.shape[0]])).T\n",
    "y_grad"
   ]
  },
  {
   "cell_type": "code",
   "execution_count": 128,
   "metadata": {},
   "outputs": [
    {
     "name": "stdout",
     "output_type": "stream",
     "text": [
      "True\n",
      "True\n"
     ]
    }
   ],
   "source": [
    "if x.grad.equal(x_grad):\n",
    "    print(True)\n",
    "if y.grad.equal(y_grad):\n",
    "    print(True)"
   ]
  },
  {
   "cell_type": "code",
   "execution_count": 196,
   "metadata": {},
   "outputs": [
    {
     "name": "stdout",
     "output_type": "stream",
     "text": [
      "tensor([[3700., 9950., 8125., 5550.],\n",
      "        [3700., 9950., 8125., 5550.]])\n",
      "tensor([[ 420.,  660.,  900.],\n",
      "        [ 840., 1320., 1800.],\n",
      "        [1260., 1980., 2700.],\n",
      "        [1680., 2640., 3600.]])\n",
      "tensor([[23400., 23400.],\n",
      "        [31800., 31800.],\n",
      "        [21900., 21900.]])\n",
      "tensor([[76500., 76500.],\n",
      "        [91920., 91920.]])\n"
     ]
    }
   ],
   "source": [
    "with torch.set_grad_enabled(True):\n",
    "    x = torch.Tensor([[2, 3],[1, 4]])\n",
    "    x.requires_grad = True\n",
    "    y = torch.Tensor([[3,4],[5,6],[7,8]])\n",
    "    y.requires_grad = True\n",
    "    z = torch.Tensor([[10,20,30], [40,60,70], [80,90,5], [15,30,45]])\n",
    "    z.requires_grad = True\n",
    "    n = torch.Tensor([[11,22,33,44]\n",
    "    , [1,2,3,4]])\n",
    "    n.requires_grad = True\n",
    "\n",
    "    p = y.mm(x)\n",
    "    p = z.mm(p)\n",
    "    p = n.mm(p)\n",
    "\n",
    "    loss = p.sum()\n",
    "    loss = loss.backward()\n",
    "\n",
    "    print(n.grad)\n",
    "    print(z.grad)\n",
    "    print(y.grad)\n",
    "    print(x.grad)\n"
   ]
  },
  {
   "cell_type": "code",
   "execution_count": 200,
   "metadata": {},
   "outputs": [
    {
     "data": {
      "text/plain": [
       "tensor([[3700., 9950., 8125., 5550.],\n",
       "        [3700., 9950., 8125., 5550.]], grad_fn=<PermuteBackward0>)"
      ]
     },
     "execution_count": 200,
     "metadata": {},
     "output_type": "execute_result"
    }
   ],
   "source": [
    "grad_n = ((z @ y @ x).sum(dim=1, keepdim=True) @ torch.ones([1, n.shape[0]])).T\n",
    "grad_n"
   ]
  },
  {
   "cell_type": "code",
   "execution_count": 253,
   "metadata": {},
   "outputs": [
    {
     "data": {
      "text/plain": [
       "tensor([[12.,  0.,  0.,  0.],\n",
       "        [ 0., 24.,  0.,  0.],\n",
       "        [ 0.,  0., 36.,  0.],\n",
       "        [ 0.,  0.,  0., 48.]], grad_fn=<DiagBackward0>)"
      ]
     },
     "execution_count": 253,
     "metadata": {},
     "output_type": "execute_result"
    }
   ],
   "source": [
    "n.sum(dim=0).diag()"
   ]
  },
  {
   "cell_type": "code",
   "execution_count": 255,
   "metadata": {},
   "outputs": [
    {
     "data": {
      "text/plain": [
       "tensor([[ 420.,  660.,  900.],\n",
       "        [ 840., 1320., 1800.],\n",
       "        [1260., 1980., 2700.],\n",
       "        [1680., 2640., 3600.]], grad_fn=<PermuteBackward0>)"
      ]
     },
     "execution_count": 255,
     "metadata": {},
     "output_type": "execute_result"
    }
   ],
   "source": [
    "grad_z = (((y @ x).sum(dim=1, keepdim=True) @ torch.ones([1, z.shape[0]])) @ n.sum(dim=0).diag()).T\n",
    "grad_z"
   ]
  },
  {
   "cell_type": "code",
   "execution_count": 286,
   "metadata": {},
   "outputs": [
    {
     "data": {
      "text/plain": [
       "tensor([[5., 5., 5.],\n",
       "        [5., 5., 5.]], grad_fn=<MmBackward0>)"
      ]
     },
     "execution_count": 286,
     "metadata": {},
     "output_type": "execute_result"
    }
   ],
   "source": [
    "# grad_y = ((x).sum(dim=1, keepdim=True) @ (n @ z)).T\n",
    "grad_y = ((x).sum(dim=1, keepdim=True) @ torch.ones([1, y.shape[0]]))\n",
    "grad_y"
   ]
  },
  {
   "cell_type": "code",
   "execution_count": 287,
   "metadata": {},
   "outputs": [
    {
     "data": {
      "text/plain": [
       "tensor([[1., 1.]])"
      ]
     },
     "execution_count": 287,
     "metadata": {},
     "output_type": "execute_result"
    }
   ],
   "source": [
    "grad_x = torch.ones([1, x.shape[0]])\n",
    "grad_x"
   ]
  },
  {
   "cell_type": "code",
   "execution_count": 304,
   "metadata": {},
   "outputs": [
    {
     "data": {
      "text/plain": [
       "tensor([[3700., 9950., 8125., 5550.],\n",
       "        [3700., 9950., 8125., 5550.]], grad_fn=<PermuteBackward0>)"
      ]
     },
     "execution_count": 304,
     "metadata": {},
     "output_type": "execute_result"
    }
   ],
   "source": [
    "grad_n = ( (z @ y @ x).sum(dim=1, keepdim=True) @ torch.ones([1, n.shape[0]]) ).T\n",
    "grad_n"
   ]
  },
  {
   "cell_type": "code",
   "execution_count": 303,
   "metadata": {},
   "outputs": [
    {
     "data": {
      "text/plain": [
       "tensor([[ 420.,  660.,  900.],\n",
       "        [ 840., 1320., 1800.],\n",
       "        [1260., 1980., 2700.],\n",
       "        [1680., 2640., 3600.]], grad_fn=<PermuteBackward0>)"
      ]
     },
     "execution_count": 303,
     "metadata": {},
     "output_type": "execute_result"
    }
   ],
   "source": [
    "grad_z = ( ( (y @ x).sum(dim=1, keepdim=True) @ torch.ones([1, z.shape[0]]) ) @ n.sum(dim=0).diag() ).T\n",
    "grad_z"
   ]
  },
  {
   "cell_type": "code",
   "execution_count": 324,
   "metadata": {},
   "outputs": [
    {
     "data": {
      "text/plain": [
       "tensor([[23400., 23400.],\n",
       "        [31800., 31800.],\n",
       "        [21900., 21900.]], grad_fn=<PermuteBackward0>)"
      ]
     },
     "execution_count": 324,
     "metadata": {},
     "output_type": "execute_result"
    }
   ],
   "source": [
    "grad_y = ( ( (x).sum(dim=1, keepdim=True) @ torch.ones([1, y.shape[0]]) ) @ (n @ z).sum(dim=0).diag() ).T\n",
    "grad_y"
   ]
  },
  {
   "cell_type": "code",
   "execution_count": 322,
   "metadata": {},
   "outputs": [
    {
     "data": {
      "text/plain": [
       "tensor([[76500., 76500.],\n",
       "        [91920., 91920.]], grad_fn=<PermuteBackward0>)"
      ]
     },
     "execution_count": 322,
     "metadata": {},
     "output_type": "execute_result"
    }
   ],
   "source": [
    "grad_x = ( torch.ones([x.shape[1], x.shape[0]] ) @ (n @ z @ y).sum(dim=0).diag() ).T\n",
    "grad_x"
   ]
  },
  {
   "cell_type": "code",
   "execution_count": 326,
   "metadata": {},
   "outputs": [
    {
     "name": "stdout",
     "output_type": "stream",
     "text": [
      "Todos coinciden\n"
     ]
    }
   ],
   "source": [
    "assert grad_n.equal(n.grad)\n",
    "assert grad_z.equal(z.grad)\n",
    "assert grad_y.equal(y.grad)\n",
    "assert grad_x.equal(x.grad)\n",
    "print(\"Todos coinciden\")"
   ]
  }
 ],
 "metadata": {
  "kernelspec": {
   "display_name": "pytorch",
   "language": "python",
   "name": "python3"
  },
  "language_info": {
   "codemirror_mode": {
    "name": "ipython",
    "version": 3
   },
   "file_extension": ".py",
   "mimetype": "text/x-python",
   "name": "python",
   "nbconvert_exporter": "python",
   "pygments_lexer": "ipython3",
   "version": "3.10.9 (main, Jan 11 2023, 15:21:40) [GCC 11.2.0]"
  },
  "orig_nbformat": 4,
  "vscode": {
   "interpreter": {
    "hash": "c275c223988153440c22406204257a7f026fcd5c27fca1de1bf9fba5203f4143"
   }
  }
 },
 "nbformat": 4,
 "nbformat_minor": 2
}
