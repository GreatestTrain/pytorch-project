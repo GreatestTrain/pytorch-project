{
 "cells": [
  {
   "cell_type": "code",
   "execution_count": 23,
   "metadata": {},
   "outputs": [
    {
     "name": "stdout",
     "output_type": "stream",
     "text": [
      "declared 4 variables\n"
     ]
    }
   ],
   "source": [
    "%run \"../config.py\""
   ]
  },
  {
   "cell_type": "code",
   "execution_count": 24,
   "metadata": {},
   "outputs": [],
   "source": [
    "import os\n",
    "import torch"
   ]
  },
  {
   "cell_type": "code",
   "execution_count": 25,
   "metadata": {},
   "outputs": [],
   "source": [
    "# os.environ[\"HSA_OVERRIDE_GFX_VERSION\"] = \"10.3.0\""
   ]
  },
  {
   "cell_type": "code",
   "execution_count": 26,
   "metadata": {},
   "outputs": [
    {
     "data": {
      "text/plain": [
       "torch.Size([8, 3, 5])"
      ]
     },
     "execution_count": 26,
     "metadata": {},
     "output_type": "execute_result"
    }
   ],
   "source": [
    "A = torch.randn((8,3,5))\n",
    "A.size()"
   ]
  },
  {
   "cell_type": "code",
   "execution_count": 27,
   "metadata": {},
   "outputs": [
    {
     "data": {
      "text/plain": [
       "tensor([[[ 0.3858, -1.5649, -0.1687],\n",
       "         [-0.6291,  0.2683,  0.5117]],\n",
       "\n",
       "        [[-0.0723,  1.7865,  0.2467],\n",
       "         [ 0.0465, -0.3685, -1.4667]],\n",
       "\n",
       "        [[ 0.2833,  0.5126, -0.2927],\n",
       "         [-0.1553,  0.7923, -0.0162]],\n",
       "\n",
       "        [[ 0.2944,  2.7270, -0.2981],\n",
       "         [-2.4085, -1.6688, -0.9424]],\n",
       "\n",
       "        [[ 0.4572,  0.9232,  0.3145],\n",
       "         [-0.7489, -0.4943,  1.2727]],\n",
       "\n",
       "        [[-0.3932,  1.6780, -1.7897],\n",
       "         [ 0.0338, -0.6062, -0.6691]],\n",
       "\n",
       "        [[-1.0173, -0.1916,  0.2507],\n",
       "         [-0.7967,  0.3305,  0.5060]],\n",
       "\n",
       "        [[-0.1159,  0.5025,  0.9831],\n",
       "         [-1.4508,  0.8019,  0.2529]]])"
      ]
     },
     "execution_count": 27,
     "metadata": {},
     "output_type": "execute_result"
    }
   ],
   "source": [
    "A[:,:2,:3]"
   ]
  },
  {
   "cell_type": "code",
   "execution_count": 28,
   "metadata": {},
   "outputs": [
    {
     "data": {
      "text/plain": [
       "torch.float32"
      ]
     },
     "execution_count": 28,
     "metadata": {},
     "output_type": "execute_result"
    }
   ],
   "source": [
    "C = torch.zeros((5,5))\n",
    "C.dtype"
   ]
  },
  {
   "cell_type": "code",
   "execution_count": 29,
   "metadata": {},
   "outputs": [
    {
     "data": {
      "text/plain": [
       "tensor([[1, 1, 1, 1, 0],\n",
       "        [1, 0, 1, 0, 1],\n",
       "        [1, 0, 0, 1, 0],\n",
       "        [1, 1, 1, 1, 0],\n",
       "        [0, 1, 1, 0, 0]])"
      ]
     },
     "execution_count": 29,
     "metadata": {},
     "output_type": "execute_result"
    }
   ],
   "source": [
    "D = torch.randint(2, (5,5))\n",
    "D"
   ]
  },
  {
   "cell_type": "code",
   "execution_count": 30,
   "metadata": {},
   "outputs": [
    {
     "data": {
      "text/plain": [
       "tensor([[1., 1., 1., 1., 0.],\n",
       "        [1., 0., 1., 0., 1.],\n",
       "        [1., 0., 0., 1., 0.],\n",
       "        [1., 1., 1., 1., 0.],\n",
       "        [0., 1., 1., 0., 0.]])"
      ]
     },
     "execution_count": 30,
     "metadata": {},
     "output_type": "execute_result"
    }
   ],
   "source": [
    "C + D"
   ]
  },
  {
   "cell_type": "code",
   "execution_count": 31,
   "metadata": {},
   "outputs": [
    {
     "data": {
      "text/plain": [
       "device(type='privateuseone', index=1)"
      ]
     },
     "execution_count": 31,
     "metadata": {},
     "output_type": "execute_result"
    }
   ],
   "source": [
    "torch.device('privateuseone:1')"
   ]
  },
  {
   "cell_type": "code",
   "execution_count": 32,
   "metadata": {},
   "outputs": [
    {
     "data": {
      "text/plain": [
       "'1.13.1+cpu'"
      ]
     },
     "execution_count": 32,
     "metadata": {},
     "output_type": "execute_result"
    }
   ],
   "source": [
    "torch.__version__"
   ]
  },
  {
   "cell_type": "code",
   "execution_count": 33,
   "metadata": {},
   "outputs": [],
   "source": [
    "torch.ops.load_library(\"/home/rml/Desktop/pytorch_dlprim/build/libpt_ocl.so\")"
   ]
  },
  {
   "cell_type": "code",
   "execution_count": 34,
   "metadata": {},
   "outputs": [],
   "source": [
    "DEVICE = torch.device(\"privateuseone:1\")"
   ]
  },
  {
   "cell_type": "code",
   "execution_count": 36,
   "metadata": {},
   "outputs": [
    {
     "ename": "RuntimeError",
     "evalue": "Invalid Device #1",
     "output_type": "error",
     "traceback": [
      "\u001b[1;31m---------------------------------------------------------------------------\u001b[0m",
      "\u001b[1;31mRuntimeError\u001b[0m                              Traceback (most recent call last)",
      "Cell \u001b[1;32mIn[36], line 1\u001b[0m\n\u001b[1;32m----> 1\u001b[0m tensor \u001b[39m=\u001b[39m torch\u001b[39m.\u001b[39;49mtensor((\u001b[39m5.\u001b[39;49m,\u001b[39m1.\u001b[39;49m,\u001b[39m2.\u001b[39;49m), dtype\u001b[39m=\u001b[39;49mtorch\u001b[39m.\u001b[39;49mfloat32)\u001b[39m.\u001b[39;49mto(DEVICE)\n\u001b[0;32m      2\u001b[0m tensor\n",
      "\u001b[1;31mRuntimeError\u001b[0m: Invalid Device #1"
     ]
    }
   ],
   "source": [
    "tensor = torch.tensor((5.,1.,2.), dtype=torch.float32)\n",
    "tensor"
   ]
  }
 ],
 "metadata": {
  "kernelspec": {
   "display_name": "pytorch",
   "language": "python",
   "name": "python3"
  },
  "language_info": {
   "codemirror_mode": {
    "name": "ipython",
    "version": 3
   },
   "file_extension": ".py",
   "mimetype": "text/x-python",
   "name": "python",
   "nbconvert_exporter": "python",
   "pygments_lexer": "ipython3",
   "version": "3.10.9 (main, Jan 11 2023, 15:21:40) [GCC 11.2.0]"
  },
  "orig_nbformat": 4,
  "vscode": {
   "interpreter": {
    "hash": "c275c223988153440c22406204257a7f026fcd5c27fca1de1bf9fba5203f4143"
   }
  }
 },
 "nbformat": 4,
 "nbformat_minor": 2
}
